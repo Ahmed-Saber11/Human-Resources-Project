{
 "cells": [
  {
   "cell_type": "markdown",
   "id": "a8fb5ff2-e16f-4abc-9014-def3dec2c699",
   "metadata": {},
   "source": [
    "# Salary \n",
    "    Predicting salary can be useful for compensation analysis, fairness audits, or market benchmarking.\n",
    "    Useful for HR to ensure competitive and equitable pay structures.\n",
    "    use Regression Model \n",
    "    "
   ]
  },
  {
   "cell_type": "code",
   "execution_count": 17,
   "id": "d4fb4839-703c-47a2-aec4-4a90f3d6e1d8",
   "metadata": {
    "collapsed": true,
    "jupyter": {
     "outputs_hidden": true
    }
   },
   "outputs": [
    {
     "data": {
      "text/plain": [
       "Index(['Emp ID', 'First Name', 'Middle Initial', 'Last Name', 'Gender',\n",
       "       'E Mail', 'Father's Name', 'Mother's Name', 'Mother's Maiden Name',\n",
       "       'Date of Birth', 'Time of Birth', 'Age in Yrs.', 'Weight in Kgs.',\n",
       "       'Date of Joining', 'Quarter of Joining', 'Half of Joining',\n",
       "       'Year of Joining', 'Month of Joining', 'Month Name of Joining',\n",
       "       'Short Month', 'Day of Joining', 'DOW of Joining', 'Short DOW',\n",
       "       'Age in Company (Years)', 'Last % Hike', 'SSN', 'Phone No. ',\n",
       "       'Place Name', 'County', 'City', 'State', 'Zip', 'Region', 'User Name',\n",
       "       'Password', 'attrition', 'Job_title', 'Adjusted_Salary'],\n",
       "      dtype='object')"
      ]
     },
     "execution_count": 17,
     "metadata": {},
     "output_type": "execute_result"
    }
   ],
   "source": [
    "# import dataset\n",
    "\n",
    "import pandas as pd \n",
    "data = pd.read_csv(r'D:\\Human Resources\\Human Resources .csv')\n",
    "data.head()\n"
   ]
  },
  {
   "cell_type": "code",
   "execution_count": 22,
   "id": "59c62116-2889-4a97-8f8b-0d64e0a15485",
   "metadata": {
    "scrolled": true
   },
   "outputs": [
    {
     "name": "stdout",
     "output_type": "stream",
     "text": [
      "<class 'pandas.core.frame.DataFrame'>\n",
      "RangeIndex: 500000 entries, 0 to 499999\n",
      "Data columns (total 38 columns):\n",
      " #   Column                  Non-Null Count   Dtype  \n",
      "---  ------                  --------------   -----  \n",
      " 0   Emp ID                  500000 non-null  int64  \n",
      " 1   First Name              500000 non-null  object \n",
      " 2   Middle Initial          500000 non-null  object \n",
      " 3   Last Name               500000 non-null  object \n",
      " 4   Gender                  500000 non-null  object \n",
      " 5   E Mail                  500000 non-null  object \n",
      " 6   Father's Name           500000 non-null  object \n",
      " 7   Mother's Name           500000 non-null  object \n",
      " 8   Mother's Maiden Name    500000 non-null  object \n",
      " 9   Date of Birth           500000 non-null  object \n",
      " 10  Time of Birth           500000 non-null  object \n",
      " 11  Age in Yrs.             500000 non-null  float64\n",
      " 12  Weight in Kgs.          500000 non-null  int64  \n",
      " 13  Date of Joining         500000 non-null  object \n",
      " 14  Quarter of Joining      500000 non-null  object \n",
      " 15  Half of Joining         500000 non-null  object \n",
      " 16  Year of Joining         500000 non-null  int64  \n",
      " 17  Month of Joining        500000 non-null  int64  \n",
      " 18  Month Name of Joining   500000 non-null  object \n",
      " 19  Short Month             500000 non-null  object \n",
      " 20  Day of Joining          500000 non-null  int64  \n",
      " 21  DOW of Joining          500000 non-null  object \n",
      " 22  Short DOW               500000 non-null  object \n",
      " 23  Age in Company (Years)  500000 non-null  float64\n",
      " 24  Last % Hike             500000 non-null  object \n",
      " 25  SSN                     500000 non-null  object \n",
      " 26  Phone No.               500000 non-null  object \n",
      " 27  Place Name              500000 non-null  object \n",
      " 28  County                  500000 non-null  object \n",
      " 29  City                    500000 non-null  object \n",
      " 30  State                   500000 non-null  object \n",
      " 31  Zip                     500000 non-null  int64  \n",
      " 32  Region                  500000 non-null  object \n",
      " 33  User Name               500000 non-null  object \n",
      " 34  Password                500000 non-null  object \n",
      " 35  attrition               500000 non-null  int64  \n",
      " 36  Job_title               500000 non-null  object \n",
      " 37  Adjusted_Salary         500000 non-null  float64\n",
      "dtypes: float64(3), int64(7), object(28)\n",
      "memory usage: 145.0+ MB\n",
      "Model Performance:\n",
      "MAE: $14,867.09\n",
      "R² Score: 0.8154\n"
     ]
    }
   ],
   "source": [
    "import sklearn as sk\n",
    "from sklearn.model_selection import train_test_split\n",
    "from sklearn.ensemble import RandomForestRegressor\n",
    "from sklearn.metrics import mean_absolute_error, r2_score\n",
    "from sklearn.preprocessing import OneHotEncoder,StandardScaler\n",
    "from sklearn.compose import ColumnTransformer\n",
    "\n",
    "# Data Cleaning\n",
    "# check for missing values\n",
    "data.isnull().sum()\n",
    " \n",
    "# information about data ( data types)\n",
    "data.info()\n",
    "\n",
    " \n",
    "# Drop non-predictive columns \n",
    "columns_to_drop = ['Emp ID', 'First Name', 'Middle Initial', 'Last Name',\n",
    "                   'E Mail', 'Father\\'s Name', \"Mother's Name\", \"Mother's Maiden Name\", \n",
    "                   'SSN', 'Phone No. ', 'User Name', 'Password', 'Place Name', \n",
    "                   'County', 'Date of Birth', 'Time of Birth', 'Date of Joining','attrition']\n",
    "\n",
    "filtered_data = data.drop(columns=[col for col in columns_to_drop if col in data.columns])\n",
    " \n",
    "\n",
    "# Remove '%' and convert to float in 'Last % Hike'\n",
    "filtered_data['Last % Hike'] = (\n",
    "    filtered_data['Last % Hike']\n",
    "    .astype(str)\n",
    "    .str.replace('%', '',regex=False)\n",
    "    .astype(float)\n",
    ")\n",
    "\n",
    "\n",
    "# Define categorical and numerical features\n",
    "categorical_features = ['Gender', 'City', 'State', 'Zip', 'Region', \n",
    "                       'Month Name of Joining', 'Short Month', 'Short DOW',\n",
    "                       'Quarter of Joining', 'Half of Joining', 'DOW of Joining','Job_title']\n",
    "\n",
    "\n",
    "numerical_features = ['Age in Yrs.', 'Weight in Kgs.', 'Age in Company (Years)',\n",
    "                     'Last % Hike', 'Year of Joining', 'Month of Joining',\n",
    "                     'Day of Joining']\n",
    "\n",
    "\n",
    "# One-Hot Encoding for categorical variables ( numbers)\n",
    "preprocessor = ColumnTransformer(\n",
    "    transformers=[\n",
    "        ('cat', OneHotEncoder(handle_unknown='ignore'), categorical_features),\n",
    "        ('num', StandardScaler(), numerical_features) ])\n",
    "\n",
    "X = filtered_data.drop('Adjusted_Salary', axis=1 )\n",
    "# target\n",
    "y = filtered_data['Adjusted_Salary'] \n",
    "\n",
    "# Train-Test Split\n",
    "X_train, X_test, y_train, y_test = train_test_split(X, y, test_size=0.2, random_state=42)\n",
    "\n",
    "# Apply preprocessing\n",
    "X_train_processed = preprocessor.fit_transform(X_train)\n",
    "X_test_processed = preprocessor.transform(X_test)\n",
    "\n",
    "# Model Training\n",
    "model = RandomForestRegressor(\n",
    "    n_estimators=200,\n",
    "   max_depth=15,\n",
    "   min_samples_split=5,\n",
    "    random_state=42,\n",
    "    n_jobs=-1\n",
    ")\n",
    "\n",
    "model.fit(X_train_processed, y_train)\n",
    "\n",
    "# Model Evaluation\n",
    "y_pred = model.predict(X_test_processed)\n",
    "\n",
    "print(\"Model Performance:\")\n",
    "print(f\"MAE: ${mean_absolute_error(y_test, y_pred):,.2f}\")\n",
    "print(f\"R² Score: {r2_score(y_test, y_pred):.4f}\")\n",
    "\n",
    "# 81.54%"
   ]
  },
  {
   "cell_type": "code",
   "execution_count": null,
   "id": "4cd65fe0-3791-4871-abef-e9c7a4bcaf83",
   "metadata": {},
   "outputs": [],
   "source": []
  }
 ],
 "metadata": {
  "kernelspec": {
   "display_name": "Python 3 (ipykernel)",
   "language": "python",
   "name": "python3"
  },
  "language_info": {
   "codemirror_mode": {
    "name": "ipython",
    "version": 3
   },
   "file_extension": ".py",
   "mimetype": "text/x-python",
   "name": "python",
   "nbconvert_exporter": "python",
   "pygments_lexer": "ipython3",
   "version": "3.12.7"
  }
 },
 "nbformat": 4,
 "nbformat_minor": 5
}
